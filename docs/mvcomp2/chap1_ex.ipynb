{
 "cells": [
  {
   "cell_type": "markdown",
   "metadata": {},
   "source": [
    "#Chapter 1: Introduction and probability basics (exercises)"
   ]
  },
  {
   "cell_type": "code",
   "execution_count": null,
   "metadata": {
    "collapsed": false
   },
   "outputs": [],
   "source": [
    "%pylab inline\n",
    "import numpy as np\n",
    "from scipy import stats\n",
    "import pylab as plt\n",
    "\n",
    "# personal package\n",
    "import figrc\n",
    "theme = figrc.Theme_Gray() + figrc.Theme_Ezrc(16, 1, 22)\n",
    "theme.apply()"
   ]
  },
  {
   "cell_type": "markdown",
   "metadata": {},
   "source": [
    "**In python, most of the statistical functions are already coded and available within `scipy.stats`**"
   ]
  },
  {
   "cell_type": "markdown",
   "metadata": {},
   "source": [
    "## Binomial\n",
    "\n",
    "This probability distribution describes processes in which an event can have only one of two possible outcomes, such as tossing a coin, detecting something at a security check, or winning the lottery, where $p$ is the probability of one event, call it \"success\" and (therefore) $1-p$ is the probability of the other event, call it \"failure\". If the trial is repeated independently n times, then we are interested in the probability of getting a total of exactly $r$ successes, call it $P (r \\mid p, n)$."
   ]
  },
  {
   "cell_type": "markdown",
   "metadata": {},
   "source": [
    "plot $P$ vs. $r$ for fixed $n$ and first a fixed $p$, then a range of $p$."
   ]
  },
  {
   "cell_type": "code",
   "execution_count": null,
   "metadata": {
    "collapsed": false
   },
   "outputs": [],
   "source": [
    "r = np.arange(0, 10, 1)\n",
    "p = np.arange(0.1, 0.9, 0.1)\n",
    "for pk in p:\n",
    "    p_r = stats.binom.pmf(r, n=10, p=pk)\n",
    "    plt.plot(r, p_r, 'o-', color='k', mfc='w',)\n",
    "plt.xlabel('r')\n",
    "plt.ylabel('P(r $\\mid$ n, p)');"
   ]
  },
  {
   "cell_type": "markdown",
   "metadata": {},
   "source": [
    "$P (r \\mid p, n)$ vs. $r$ for fixed $n=10$ for various values of $p$. The distribution is discrete: points are joined with lines just to help identification of the points with common $p$."
   ]
  },
  {
   "cell_type": "code",
   "execution_count": null,
   "metadata": {
    "collapsed": false
   },
   "outputs": [],
   "source": [
    "r = [1, 2, 3, 5, 9]\n",
    "p = np.arange(0., 1.01, 0.05)\n",
    "for rk in r:\n",
    "    p_r = stats.binom.pmf(rk, n=10, p=p)\n",
    "    plt.plot(p, p_r, 'o-', color='k', mfc='w')\n",
    "plt.xlabel('p')\n",
    "plt.ylabel('P(r $\\mid$ n, p)');"
   ]
  },
  {
   "cell_type": "markdown",
   "metadata": {},
   "source": [
    "$P (r \\mid p, n)$ vs. $p$ for fixed $n$ for various values of $r$. \n",
    "**Note that this latter plot is not a probability distribution function over $p$.**"
   ]
  },
  {
   "cell_type": "markdown",
   "metadata": {},
   "source": [
    "## Beta\n",
    "A convenient prior for some quantity $p$ bound to lie between $0$ and $1$, is the beta distribution, which is\n",
    "described by two parameters, the shape and scale."
   ]
  },
  {
   "cell_type": "code",
   "execution_count": null,
   "metadata": {
    "collapsed": false
   },
   "outputs": [],
   "source": [
    "p = np.arange(0., 1.001, 0.01)\n",
    "for alpha in (0.5, 1, 2, 5, 10):\n",
    "    p_beta = stats.beta.pdf(p, a=alpha, b=1.)\n",
    "    plt.plot(p, p_beta, color='k')\n",
    "plt.xlabel('p')\n",
    "plt.ylabel('P(p)');"
   ]
  },
  {
   "cell_type": "markdown",
   "metadata": {},
   "source": [
    "## Poisson\n",
    "The binomial distribution describes events in which there is a definite event taking place which has a\n",
    "definite two way result: it's either a \"success\" or a \"failure\"; something happens or it doesn’t. A lot of\n",
    "natural processes are only \"one-way\", by which I mean it's clear if they happened but not clear if they\n",
    "didn't. For example, lightning strikes, α particle emission from a radioactive source. In these cases you\n",
    "can't count non-events because we cannot identify a sequence of events where something is supposed\n",
    "to happen or not. Suppose that on average these events occurs at a rate of $\\lambda$, so that $\\lambda$ is the expected\n",
    "number of events in some unit time. We would like to find the probability that we get $r$ events in this\n",
    "interval."
   ]
  },
  {
   "cell_type": "code",
   "execution_count": null,
   "metadata": {
    "collapsed": false
   },
   "outputs": [],
   "source": [
    "r = np.arange(0, 20, 1)\n",
    "\n",
    "for l in (1,2,3.5,10):\n",
    "    p = stats.poisson.pmf(r, l)\n",
    "    plt.plot(r, p, 'ko-', mfc='w')\n",
    "    \n",
    "plt.xlabel('r')\n",
    "plt.ylabel('P(r$\\mid$ $\\lambda$)');"
   ]
  },
  {
   "cell_type": "markdown",
   "metadata": {},
   "source": [
    "### Example: Radioactive decay\n",
    "\n",
    "Consider a radioactive source with half life $t_{1/2}$. If $N_0$ is the initial number of radioactive atoms, then\n",
    "the number left after time $t$ is given by\n",
    "$$N = N_0 \\exp(−t/\\tau ) = N_0 \\exp(−\\lambda t)$$\n",
    "\n",
    "where $\\tau = t_{1/2} / 2$. The mean (expected) number of decays per unit time is $\\lambda = 1/\\tau$ . The distribution of the number of decays per time interval is a Poisson distribution. To see this from a set of data, we record\n",
    "the time at which decay occurs, and then divide the entire time span up into constant intervals of unit time. We then count how many of these intervals have 0, 1, 2, 3, etc. decays. When normalized, this is approximately a Poisson distribution with mean $1/\\tau$.\n",
    "\n",
    "We can demonstrate this using a simulation of radioactive decay. Let’s assume a source has a decay time\n",
    "scale given by $\\lambda = 10$ (per unit time interval). The number of decays in any unit time interval can be\n",
    "simulated by drawing once from a Poisson distribution with this mean. We do this a large number of\n",
    "times to simulate the data. Based just on these data, we then count how many of these intervals\n",
    "have 0, 1, 2, 3, etc. decays. We then overplot on this with a Poisson density distribution, with a mean\n",
    "derived from the data, and scaled from a probability distribution to give the expected number of counts\n",
    "per time interval."
   ]
  },
  {
   "cell_type": "code",
   "execution_count": null,
   "metadata": {
    "collapsed": false
   },
   "outputs": [],
   "source": [
    "true_lambda = 10\n",
    "nint = 100    # number of intervals\n",
    "ndecay = stats.poisson.rvs(true_lambda, size=nint)\n",
    "plt.hist(ndecay, bins=15)\n",
    "x = np.arange(ndecay.max() + 1)\n",
    "p = stats.poisson.pmf(x, ndecay.mean()) * nint\n",
    "plt.plot(x, p, lw=2)\n",
    "plt.xlabel('no. decays per time interval')\n",
    "plt.ylabel('no. observations')"
   ]
  },
  {
   "cell_type": "markdown",
   "metadata": {},
   "source": [
    "As we increase the amount of data (number of time intervals), the closer the data follow a Poisson\n",
    "distribution. Note that if we doubled the time interval, then both $\\lambda$ and the number of events per time\n",
    "interval would double."
   ]
  },
  {
   "cell_type": "markdown",
   "metadata": {},
   "source": [
    "## Gaussian (Normal)\n",
    "\n",
    "The Gaussian or Normal distribution is probably the best known and most commonly used distribution\n",
    "in the physical sciences."
   ]
  },
  {
   "cell_type": "code",
   "execution_count": null,
   "metadata": {
    "collapsed": false
   },
   "outputs": [],
   "source": [
    "x = np.arange(-10, 10, 0.1)\n",
    "\n",
    "for s in (1, 2, 3):\n",
    "    plt.plot(x, stats.norm.pdf(x, 0, s), color='k')\n",
    "plt.xlabel('x')\n",
    "plt.ylabel('$\\mathcal{N}$(x $\\mid$ 0, $\\sigma$)');"
   ]
  },
  {
   "cell_type": "markdown",
   "metadata": {},
   "source": [
    "## Gamma\n",
    "\n",
    "The gamma distribution is a semi-infinite distribution: it is only non-zero for $x > 0$."
   ]
  },
  {
   "cell_type": "code",
   "execution_count": null,
   "metadata": {
    "collapsed": false
   },
   "outputs": [],
   "source": [
    "x = np.arange(0., 15.01, 0.05)\n",
    "ls = ['-', '--']\n",
    "co = ['k', 'r', 'g']\n",
    "for shape, color in zip((1, 2, 5), co):\n",
    "    for scale, lsk in zip((1, 2), ls):\n",
    "        plt.plot(x, stats.gamma(shape, scale=scale).pdf(x), ls=lsk, color=color)\n",
    "plt.xlabel('x')\n",
    "plt.ylabel(r'$\\Gamma$(x $\\mid$ k, $\\theta$)');"
   ]
  },
  {
   "cell_type": "markdown",
   "metadata": {},
   "source": [
    "## Cauchy\n",
    "\n",
    "also known as Lorentz distribution.\n",
    "It is the distribution of a random variable that is the ratio of two independent standard normal variables."
   ]
  },
  {
   "cell_type": "code",
   "execution_count": null,
   "metadata": {
    "collapsed": false
   },
   "outputs": [],
   "source": [
    "x = np.arange(-10, 10, 0.1)\n",
    "\n",
    "for s, ls in zip((1, 2), ('-', '--')):\n",
    "    plt.plot(x, stats.cauchy.pdf(x, 0, s), ls=ls, color='k')\n",
    "    plt.plot(x, stats.norm.pdf(x, 0, s), ls=ls, color='r')\n",
    "\n",
    "plt.xlabel('x')\n",
    "plt.ylabel('P(x)');"
   ]
  },
  {
   "cell_type": "markdown",
   "metadata": {},
   "source": [
    "The Cauchy distribution (solid lines) with zero mode and b equal to 1 and 2. The dashed\n",
    "lines shows a Gaussian with zero mode and the same FWHM as the two Cauchy distributions."
   ]
  },
  {
   "cell_type": "markdown",
   "metadata": {},
   "source": [
    "## Exercices"
   ]
  },
  {
   "cell_type": "markdown",
   "metadata": {},
   "source": [
    "**Exercise**\n",
    "\n",
    "You have two boxes with red and blue balls in each. \n",
    "* Box $I$ has 3 red and 2 blue balls. \n",
    "* Box $II$ has 2 red and 8 blue balls. \n",
    "\n",
    "A fair coin is tossed. If it lands heads you take a ball at random from box $I$. \n",
    "If tails, you take a ball at random from box $II$. What is the probability that the ball is red?"
   ]
  },
  {
   "cell_type": "markdown",
   "metadata": {},
   "source": [
    "**Exercise**\n",
    "\n",
    "Now someone else tosses the coin but doesn’t tell you whether it is head or tails. But she does tell you that a red ball was drawn. What is the probability that it was drawn from box $I$?"
   ]
  },
  {
   "cell_type": "markdown",
   "metadata": {},
   "source": [
    "**Exercise**\n",
    "\n",
    "If the chance of finding life on one planet is 1 in $n$, and you search for life on $n$ planets, what is the\n",
    "probability of finding life on at least one planet? What is this in the limit as $n \\rightarrow \\infty$?"
   ]
  },
  {
   "cell_type": "markdown",
   "metadata": {},
   "source": [
    "**Exercise**\n",
    "\n",
    "In a room full of people, how many people do you have to ask before there is a 50% chance (or more) that any two or more of them share a common birthday? \n",
    "\n",
    "* What are your asssumptions?\n",
    "\n",
    "* make a code that plots this Probability as a function of N."
   ]
  },
  {
   "cell_type": "markdown",
   "metadata": {},
   "source": [
    "**Exercise**\n",
    "\n",
    "In a room full of people, how many people do you have to ask before there is a 50% chance (or more) that one of them shares your birthday?"
   ]
  },
  {
   "cell_type": "markdown",
   "metadata": {},
   "source": [
    "**Exercise**\n",
    "\n",
    "Show that the FWHM and IQR of the Cauchy distribution are equal to 2b.\n",
    "\n",
    "Show that the mean, variance or any moment of the Cauchy distribution are undefined."
   ]
  },
  {
   "cell_type": "markdown",
   "metadata": {},
   "source": [
    "**Exercise**\n",
    "\n",
    "Children inherit a fair-mix of the genetic material of both of their parents. Blood type is one of the famous examples in this domain. Blood type O is a recessive gene feature, and thus requires that both parents transmit the blood type gene to the baby. However it is also the most common gene, almost everyone has this gene.\n",
    "\n",
    "* If you suppose that both parents have this gene, what is the probability that a child born has a blood type O?\n",
    "\n",
    "If these parents have 5 children, \n",
    "\n",
    "* what is the probability that exactly 2 of them have type O blood? plot it for other values\n",
    "* What is the expected number of children with type O blood?\n",
    "* What is the probability of at least 2 children with type O blood?"
   ]
  },
  {
   "cell_type": "markdown",
   "metadata": {},
   "source": [
    "**Exercise**\n",
    "\n",
    "Let $X$ represent the fraction of the population in a certain city who obtain the flu vaccine.\n",
    "and $X$ follows a probability distribution $P(x) = 2 x$  (if $0\\leq x \\leq 1$).\n",
    "\n",
    "Note that this distribution is correctly normalized.\n",
    "\n",
    "* Find $P(1/4 \\leq X \\leq 1/2)$\n",
    "* Find $P(X > 1/2)$\n",
    "* What expectation and variance?"
   ]
  }
 ],
 "metadata": {
  "kernelspec": {
   "display_name": "Python 3",
   "language": "python",
   "name": "python3"
  },
  "language_info": {
   "codemirror_mode": {
    "name": "ipython",
    "version": 3
   },
   "file_extension": ".py",
   "mimetype": "text/x-python",
   "name": "python",
   "nbconvert_exporter": "python",
   "pygments_lexer": "ipython3",
   "version": "3.4.3"
  }
 },
 "nbformat": 4,
 "nbformat_minor": 0
}
